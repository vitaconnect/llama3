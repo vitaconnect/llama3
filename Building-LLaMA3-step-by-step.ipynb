{
 "cells": [
  {
   "cell_type": "markdown",
   "id": "f412f014-1760-4477-9dca-84125a55d1c0",
   "metadata": {},
   "source": [
    "# Building LLaMA3.1 step by step\n",
    "Following https://levelup.gitconnected.com/building-llama-3-from-scratch-with-python-e0cf4dbbc306"
   ]
  },
  {
   "cell_type": "markdown",
   "id": "7f2b1590-ef67-4078-bb0d-24d96e44389c",
   "metadata": {},
   "source": [
    "## Set up environment\n",
    "From the command line create a new conda environment and install dependencies as follows:"
   ]
  },
  {
   "cell_type": "raw",
   "id": "3e2388dc-d467-4e53-9d71-b8a5a5072177",
   "metadata": {},
   "source": [
    "conda create -n llama3 sentencepiece matplotlib huggingface_hub\n",
    "conda activate llama3\n",
    "pip install torch tiktoken blobfile"
   ]
  },
  {
   "cell_type": "markdown",
   "id": "0e4cdb11-9f02-42cb-ba66-4692b6baaa40",
   "metadata": {},
   "source": [
    "## Part 1 - Get the Llama 3 model files from Hugging Face and explore them\n"
   ]
  },
  {
   "cell_type": "markdown",
   "id": "5ae9b06e-2220-4e25-8364-636b08ff4ad9",
   "metadata": {},
   "source": [
    "### Download the model files\n",
    "We only need to run these cells once to download the files"
   ]
  },
  {
   "cell_type": "raw",
   "id": "f0dc733b-41e0-4c28-8f14-15fd0e99d743",
   "metadata": {},
   "source": [
    "# Import the `notebook_login` function from the `huggingface_hub` module.\n",
    "from huggingface_hub import notebook_login\n",
    "\n",
    "# Execute the `notebook_login` function to log in to the Hugging Face Hub.\n",
    "notebook_login()"
   ]
  },
  {
   "cell_type": "raw",
   "id": "527aa889-f4ea-4f82-b12c-60a9df8ef877",
   "metadata": {},
   "source": [
    "# Import hugging face files \n",
    "from huggingface_hub import hf_hub_download\n",
    "\n",
    "# Repo info\n",
    "repo_id = \"meta-llama/Llama-3.1-8B\"\n",
    "subfolder=\"original\"\n",
    "\n",
    "# Files to download\n",
    "filenames = [\"params.json\", \"tokenizer.model\", \"consolidated.00.pth\"]\n",
    "\n",
    "# Where to save files\n",
    "save_directory = \"llama-3.1-8B\"\n",
    "\n",
    "# Download each file\n",
    "for filename in filenames:\n",
    "    hf_hub_download(\n",
    "        repo_id=repo_id,       # Repository ID\n",
    "        filename=filename,     # Name of the file to download\n",
    "        subfolder=subfolder,   # Subfolder within the repository\n",
    "        local_dir=save_directory  # Directory to save the downloaded file\n",
    "    )\n"
   ]
  },
  {
   "cell_type": "markdown",
   "id": "dac99a94-87be-466d-9dda-9016927b3d41",
   "metadata": {},
   "source": [
    "### Import the libraries we need for tiktoken, PyTorch and json handling"
   ]
  },
  {
   "cell_type": "code",
   "execution_count": 1,
   "id": "9ffb9e01-1c38-42a7-90c3-1ad89e27dff6",
   "metadata": {},
   "outputs": [],
   "source": [
    "# Import libraries\n",
    "\n",
    "# Tokenisation library\n",
    "import tiktoken\n",
    "\n",
    "# Byte Pair Encoding function\n",
    "from tiktoken.load import load_tiktoken_bpe\n",
    "\n",
    "# PyTorch library\n",
    "import torch\n",
    "\n",
    "# JSON \n",
    "import json"
   ]
  },
  {
   "cell_type": "markdown",
   "id": "044dd596-cb7a-45e7-aca4-398cd17d1c3c",
   "metadata": {},
   "source": [
    "### Load and inspect the tokenizer model (tokenizer.model)"
   ]
  },
  {
   "cell_type": "code",
   "execution_count": 2,
   "id": "d5880478-7f7e-44c1-ab7e-5d0778d4d8eb",
   "metadata": {},
   "outputs": [],
   "source": [
    "# Load the tokenizer model\n",
    "model_directory = \"llama-3.1-8B/original/\"\n",
    "tokenizer_model = load_tiktoken_bpe(model_directory + \"tokenizer.model\") "
   ]
  },
  {
   "cell_type": "code",
   "execution_count": 3,
   "id": "ddab10f0-16f9-4e27-a8ec-7473fdf00f09",
   "metadata": {},
   "outputs": [
    {
     "data": {
      "text/plain": [
       "128000"
      ]
     },
     "execution_count": 3,
     "metadata": {},
     "output_type": "execute_result"
    }
   ],
   "source": [
    "# How many tokens are in the tokenizer model?  12800\n",
    "len(tokenizer_model)"
   ]
  },
  {
   "cell_type": "code",
   "execution_count": 4,
   "id": "1b1f2016-f19d-4c6e-a7f8-ab13bd14131b",
   "metadata": {},
   "outputs": [
    {
     "data": {
      "text/plain": [
       "dict"
      ]
     },
     "execution_count": 4,
     "metadata": {},
     "output_type": "execute_result"
    }
   ],
   "source": [
    "# What type of object is it? dict\n",
    "type(tokenizer_model)"
   ]
  },
  {
   "cell_type": "code",
   "execution_count": 5,
   "id": "3303fc64-6edd-4a8d-8500-abdf43585830",
   "metadata": {},
   "outputs": [
    {
     "data": {
      "text/plain": [
       "{b' Web': 5000,\n",
       " b'Des': 5001,\n",
       " b'BC': 5002,\n",
       " b'ancial': 5003,\n",
       " b'Route': 5004,\n",
       " b'Dec': 5005,\n",
       " b'ferences': 5006,\n",
       " b' purch': 5007,\n",
       " b' Model': 5008,\n",
       " b'ctor': 5009}"
      ]
     },
     "execution_count": 5,
     "metadata": {},
     "output_type": "execute_result"
    }
   ],
   "source": [
    "# Print 10 items of the model\n",
    "dict(list(tokenizer_model.items())[5000:5010])"
   ]
  },
  {
   "cell_type": "markdown",
   "id": "1ea295f8-10e8-4488-a0f9-76edccade429",
   "metadata": {},
   "source": [
    "### Load and inspect the model's learned weights (consolidated.00.pth)"
   ]
  },
  {
   "cell_type": "code",
   "execution_count": 6,
   "id": "ed5f029b-3ea4-4e4a-988c-4eb6159d50f3",
   "metadata": {},
   "outputs": [],
   "source": [
    "# Load PyTorch model of Llama-3.1-8B\n",
    "\n",
    "#   map_location=torch.device('cpu'): this tells torch I'm using CPU rather than CUDA compatible GPU\n",
    "#   weights_only=True: this prevents a security warning\n",
    "model = torch.load(model_directory + \"consolidated.00.pth\",  map_location=torch.device('cpu'), weights_only=True)"
   ]
  },
  {
   "cell_type": "code",
   "execution_count": 7,
   "id": "4834536b-9b82-44dc-993a-b6d74c6f48e7",
   "metadata": {},
   "outputs": [
    {
     "name": "stdout",
     "output_type": "stream",
     "text": [
      "len(model)= 291\n"
     ]
    }
   ],
   "source": [
    "print(\"len(model)=\",len(model))"
   ]
  },
  {
   "cell_type": "code",
   "execution_count": 8,
   "id": "94602705-7ec1-463d-914b-aa18f9b52b2e",
   "metadata": {},
   "outputs": [
    {
     "name": "stdout",
     "output_type": "stream",
     "text": [
      "model keys are of type  <class 'str'>\n",
      "model values are of type  <class 'torch.Tensor'>\n"
     ]
    }
   ],
   "source": [
    "print(\"model keys are of type \",type(next(iter(model.keys()), None)))\n",
    "print(\"model values are of type \",type(next(iter(model.values()), None)))"
   ]
  },
  {
   "cell_type": "code",
   "execution_count": 9,
   "id": "72358754-fb3e-4625-8f19-71268a6d8d8d",
   "metadata": {},
   "outputs": [
    {
     "data": {
      "text/plain": [
       "['tok_embeddings.weight',\n",
       " 'layers.0.attention.wq.weight',\n",
       " 'layers.0.attention.wk.weight',\n",
       " 'layers.0.attention.wv.weight',\n",
       " 'layers.0.attention.wo.weight',\n",
       " 'layers.0.feed_forward.w1.weight',\n",
       " 'layers.0.feed_forward.w3.weight',\n",
       " 'layers.0.feed_forward.w2.weight',\n",
       " 'layers.0.attention_norm.weight',\n",
       " 'layers.0.ffn_norm.weight',\n",
       " 'layers.1.attention.wq.weight',\n",
       " 'layers.1.attention.wk.weight',\n",
       " 'layers.1.attention.wv.weight',\n",
       " 'layers.1.attention.wo.weight',\n",
       " 'layers.1.feed_forward.w1.weight',\n",
       " 'layers.1.feed_forward.w3.weight',\n",
       " 'layers.1.feed_forward.w2.weight',\n",
       " 'layers.1.attention_norm.weight',\n",
       " 'layers.1.ffn_norm.weight',\n",
       " 'layers.2.attention.wq.weight']"
      ]
     },
     "execution_count": 9,
     "metadata": {},
     "output_type": "execute_result"
    }
   ],
   "source": [
    "# Let's look at some of the keys of the model to see the architecture of the LLM\n",
    "list(model.keys())[:20]"
   ]
  },
  {
   "cell_type": "code",
   "execution_count": 10,
   "id": "63c091be-0ab0-43e9-9fae-e3e8809493d9",
   "metadata": {},
   "outputs": [
    {
     "data": {
      "text/plain": [
       "['layers.31.attention.wq.weight',\n",
       " 'layers.31.attention.wk.weight',\n",
       " 'layers.31.attention.wv.weight',\n",
       " 'layers.31.attention.wo.weight',\n",
       " 'layers.31.feed_forward.w1.weight',\n",
       " 'layers.31.feed_forward.w3.weight',\n",
       " 'layers.31.feed_forward.w2.weight',\n",
       " 'layers.31.attention_norm.weight',\n",
       " 'layers.31.ffn_norm.weight',\n",
       " 'norm.weight',\n",
       " 'output.weight']"
      ]
     },
     "execution_count": 10,
     "metadata": {},
     "output_type": "execute_result"
    }
   ],
   "source": [
    "list(model.keys())[280:]"
   ]
  },
  {
   "cell_type": "code",
   "execution_count": 11,
   "id": "c56ef7dc-6438-4747-9752-20a49b3bcce8",
   "metadata": {},
   "outputs": [
    {
     "data": {
      "text/plain": [
       "{'tok_embeddings.weight': tensor([[ 1.2436e-03,  5.6763e-03, -3.2501e-03,  ...,  4.0588e-03,\n",
       "          -2.6245e-03, -6.8283e-04],\n",
       "         [-3.4332e-03,  1.3351e-03, -1.6556e-03,  ...,  9.4604e-04,\n",
       "          -1.8616e-03, -2.1515e-03],\n",
       "         [ 6.7520e-04, -1.6113e-02,  2.5635e-03,  ...,  4.3030e-03,\n",
       "           7.8735e-03,  4.8523e-03],\n",
       "         ...,\n",
       "         [ 2.2230e-23,  3.9291e-24,  2.1713e-23,  ...,  6.4106e-23,\n",
       "          -2.6625e-24, -2.3678e-23],\n",
       "         [ 2.2954e-23, -2.2230e-24, -2.2334e-23,  ...,  2.8124e-23,\n",
       "           8.7371e-24, -3.7223e-23],\n",
       "         [-8.8922e-23, -7.6101e-23,  6.5140e-24,  ...,  5.9195e-24,\n",
       "          -6.4934e-23, -2.7271e-24]], dtype=torch.bfloat16),\n",
       " 'layers.0.attention.wq.weight': tensor([[ 0.0053, -0.0291, -0.0058,  ...,  0.0095, -0.0420, -0.0272],\n",
       "         [ 0.0284,  0.0008, -0.0093,  ..., -0.0092, -0.0078,  0.0048],\n",
       "         [-0.0142, -0.0679, -0.0049,  ..., -0.0142, -0.0498,  0.0192],\n",
       "         ...,\n",
       "         [-0.0035, -0.0101,  0.0459,  ...,  0.0049, -0.0011,  0.0011],\n",
       "         [ 0.0006,  0.0309, -0.0698,  ..., -0.0028, -0.0002, -0.0019],\n",
       "         [-0.0018, -0.0153,  0.0347,  ...,  0.0110,  0.0004,  0.0044]],\n",
       "        dtype=torch.bfloat16)}"
      ]
     },
     "execution_count": 11,
     "metadata": {},
     "output_type": "execute_result"
    }
   ],
   "source": [
    "# Let's lool at one entry\n",
    "dict(list(model.items())[0:2])"
   ]
  },
  {
   "cell_type": "markdown",
   "id": "3296796a-fa3d-48a3-9df8-56321b2d977c",
   "metadata": {},
   "source": [
    "### Load and inspect model hyperparameters (params.json)"
   ]
  },
  {
   "cell_type": "code",
   "execution_count": 12,
   "id": "bfa310b8-f9f8-4a4f-a000-5210a9981487",
   "metadata": {},
   "outputs": [
    {
     "name": "stdout",
     "output_type": "stream",
     "text": [
      "{'dim': 4096, 'ffn_dim_multiplier': 1.3, 'multiple_of': 1024, 'n_heads': 32, 'n_kv_heads': 8, 'n_layers': 32, 'norm_eps': 1e-05, 'rope_theta': 500000.0, 'use_scaled_rope': True, 'vocab_size': 128256}\n"
     ]
    }
   ],
   "source": [
    "with open(model_directory + \"params.json\",\"r\") as f:\n",
    "          config = json.load(f)\n",
    "\n",
    "print(config)"
   ]
  },
  {
   "cell_type": "code",
   "execution_count": 13,
   "id": "629105c0-44d6-4ddc-9551-4cac2e335378",
   "metadata": {},
   "outputs": [
    {
     "data": {
      "text/plain": [
       "dict"
      ]
     },
     "execution_count": 13,
     "metadata": {},
     "output_type": "execute_result"
    }
   ],
   "source": [
    "type(config)"
   ]
  },
  {
   "cell_type": "markdown",
   "id": "77241abb-f921-49ba-bd03-129cef2cec35",
   "metadata": {},
   "source": [
    "## Part 2 - Build our Llama-3 model"
   ]
  },
  {
   "cell_type": "markdown",
   "id": "65957759-924a-495e-9688-7678018288f9",
   "metadata": {},
   "source": [
    "### Store model hyperparameters for use later in building our LLM"
   ]
  },
  {
   "cell_type": "code",
   "execution_count": 14,
   "id": "7f7bc868-7bc3-4ef3-9bdc-e35c5fbec142",
   "metadata": {},
   "outputs": [],
   "source": [
    "# Dimension\n",
    "dim = config[\"dim\"]\n",
    "\n",
    "# Layers\n",
    "n_layers = config[\"n_layers\"]\n",
    "\n",
    "# Heads\n",
    "n_heads = config[\"n_heads\"]\n",
    "\n",
    "# KV_heads\n",
    "n_kv_heads = config[\"n_kv_heads\"]\n",
    "\n",
    "# Vocabulary\n",
    "vocab_size = config[\"vocab_size\"]\n",
    "\n",
    "# Multiple\n",
    "multiple_of = config[\"multiple_of\"]\n",
    "\n",
    "# Multiplier\n",
    "ffn_dim_multiplier = config[\"ffn_dim_multiplier\"]\n",
    "\n",
    "# Epsilon\n",
    "norm_eps = config[\"norm_eps\"]\n",
    "\n",
    "# RoPE\n",
    "rope_theta = torch.tensor(config[\"rope_theta\"])"
   ]
  },
  {
   "cell_type": "markdown",
   "id": "0c46c95d-9f9c-4889-b6f0-6c2f4ae99dd1",
   "metadata": {},
   "source": [
    "### Create a tokenizer to tokenize our input data"
   ]
  },
  {
   "cell_type": "code",
   "execution_count": 15,
   "id": "67ed8fed-3dd5-4c22-a08a-1f2db48700af",
   "metadata": {},
   "outputs": [],
   "source": [
    "special_tokens = [\n",
    "    \"<|begin_of_text|>\",  # Marks the beginning of a text sequence.\n",
    "    \"<|end_of_text|>\",  # Marks the end of a text sequence.\n",
    "    \"<|reserved_special_token_0|>\",  # Reserved for future use.\n",
    "    \"<|reserved_special_token_1|>\",  # Reserved for future use.\n",
    "    \"<|reserved_special_token_2|>\",  # Reserved for future use.\n",
    "    \"<|reserved_special_token_3|>\",  # Reserved for future use.\n",
    "    \"<|start_header_id|>\",  # Indicates the start of a header ID.\n",
    "    \"<|end_header_id|>\",  # Indicates the end of a header ID.\n",
    "    \"<|reserved_special_token_4|>\",  # Reserved for future use.\n",
    "    \"<|eot_id|>\",  # Marks the end of a turn (in a conversational context).\n",
    "] + [f\"<|reserved_special_token_{i}|>\" for i in range(5, 256 - 5)]  # A large set of tokens reserved for future use."
   ]
  },
  {
   "cell_type": "code",
   "execution_count": 16,
   "id": "64c44820-a5d9-4947-ac2d-eda6a660ec51",
   "metadata": {},
   "outputs": [],
   "source": [
    "# Set a regex for breaking inpout into tokens\n",
    "tokenize_breaker = r\"(?i:'s|'t|'re|'ve|'m|'ll|'d)|[^\\r\\n\\p{L}\\p{N}]?\\p{L}+|\\p{N}{1,3}| ?[^\\s\\p{L}\\p{N}]+[\\r\\n]*|\\s*[\\r\\n]+|\\s+(?!\\S)|\\s+\""
   ]
  },
  {
   "cell_type": "code",
   "execution_count": 17,
   "id": "e1acae2e-8f38-40ed-8ceb-addf097c1c4f",
   "metadata": {},
   "outputs": [
    {
     "name": "stdout",
     "output_type": "stream",
     "text": [
      "['I', \"'m\", ' happy', '!', ' It', \"'s\", ' ', '100', '%', ' true', '.']\n"
     ]
    }
   ],
   "source": [
    "# Here's how the tokenize_breaker regex works on an example sentence\n",
    "import re\n",
    "\n",
    "# Example sentence\n",
    "sentence = \"I'm happy! It's 100% true.\"\n",
    "\n",
    "# Since the regex pattern uses Unicode property escapes like \\p{L}, we will use the 'regex' module (not the built-in 're' module) in Python,\n",
    "# which supports Unicode property escapes directly.\n",
    "import regex as re\n",
    "\n",
    "# Tokenize the sentence using the regex pattern\n",
    "tokens = re.findall(tokenize_breaker, sentence)\n",
    "\n",
    "# Print the tokens\n",
    "print(tokens)"
   ]
  },
  {
   "cell_type": "code",
   "execution_count": 18,
   "id": "2acccb85-806a-4fa8-81c7-f389510a0691",
   "metadata": {},
   "outputs": [
    {
     "data": {
      "text/plain": [
       "\"hello world, I'm 10% pleased to see you!\""
      ]
     },
     "execution_count": 18,
     "metadata": {},
     "output_type": "execute_result"
    }
   ],
   "source": [
    "# Initialize tokenizer with specified parameters\n",
    "tokenizer = tiktoken.Encoding(\n",
    "\n",
    "    # Name of encoding\n",
    "    name = \"tokenizer.model\",\n",
    "\n",
    "    # Define tokenization pattern string\n",
    "    pat_str = tokenize_breaker,\n",
    "\n",
    "    # Assign BPE mergeable ranks from tokenizer_model of LLaMA-3\n",
    "    mergeable_ranks = tokenizer_model,\n",
    "\n",
    "    # Set special tokens with indices\n",
    "    special_tokens={token: len(tokenizer_model) + i for i, token in enumerate(special_tokens)},\n",
    ")\n",
    "\n",
    "# Encode \"hello world!\" and decode tokens to string\n",
    "tokenizer.decode(tokenizer.encode(\"hello world, I'm 10% pleased to see you!\"))"
   ]
  },
  {
   "cell_type": "code",
   "execution_count": 19,
   "id": "dae9a958-0d9d-4335-9403-3e0de32a43ea",
   "metadata": {},
   "outputs": [
    {
     "data": {
      "text/plain": [
       "[15339, 1917, 11, 358, 2846, 220, 605, 4, 18949, 311, 1518, 499, 0]"
      ]
     },
     "execution_count": 19,
     "metadata": {},
     "output_type": "execute_result"
    }
   ],
   "source": [
    "tokenizer.encode(\"hello world, I'm 10% pleased to see you!\")\n"
   ]
  },
  {
   "cell_type": "code",
   "execution_count": 20,
   "id": "56d9b88f-86b0-43ab-83e6-c3a7320941cb",
   "metadata": {},
   "outputs": [
    {
     "data": {
      "text/plain": [
       "[('<|begin_of_text|>', 128000),\n",
       " ('<|end_of_text|>', 128001),\n",
       " ('<|reserved_special_token_0|>', 128002),\n",
       " ('<|reserved_special_token_1|>', 128003),\n",
       " ('<|reserved_special_token_2|>', 128004)]"
      ]
     },
     "execution_count": 20,
     "metadata": {},
     "output_type": "execute_result"
    }
   ],
   "source": [
    "# Let's have a look at those special_tokens.  \n",
    "# These are additional tokens we're adding to the \"end\" of tokenizer_model\n",
    "special_tokens={token: len(tokenizer_model) + i for i, token in enumerate(special_tokens)}\n",
    "\n",
    "# Show first 5 entries\n",
    "list(special_tokens.items())[0: 5]"
   ]
  },
  {
   "cell_type": "code",
   "execution_count": 21,
   "id": "9a2d7707-dd13-439d-81fc-8e8f53934b5c",
   "metadata": {},
   "outputs": [
    {
     "name": "stdout",
     "output_type": "stream",
     "text": [
      "prompt tokens: [128000, 791, 8415, 374, 3776]\n",
      "prompt tokens decoded:  ['<|begin_of_text|>', 'The', ' cat', ' is', ' black']\n"
     ]
    }
   ],
   "source": [
    "# input prompt\n",
    "prompt = \"the answer to the ultimate question of life, the universe, and everything is\"\n",
    "prompt = \"The cat is black\"\n",
    "\n",
    "# Encode the prompt using the tokenizer and prepend a special token (128000)\n",
    "tokens = [128000] + tokenizer.encode(prompt)\n",
    "\n",
    "print(\"prompt tokens:\", tokens)  # Print the encoded tokens\n",
    "\n",
    "# Convert the list of tokens into a PyTorch tensor\n",
    "tokens = torch.tensor(tokens)\n",
    "\n",
    "# Decode each token back into its corresponding string\n",
    "print(\"prompt tokens decoded: \", [tokenizer.decode([token.item()]) for token in tokens] )"
   ]
  },
  {
   "cell_type": "code",
   "execution_count": 22,
   "id": "948772aa-7ff9-46b5-97d8-fd6343b045be",
   "metadata": {},
   "outputs": [
    {
     "data": {
      "text/plain": [
       "5"
      ]
     },
     "execution_count": 22,
     "metadata": {},
     "output_type": "execute_result"
    }
   ],
   "source": [
    "# Check length of our input vector\n",
    "input_seq_length = len(tokens)\n",
    "input_seq_length"
   ]
  },
  {
   "cell_type": "code",
   "execution_count": 23,
   "id": "f55c3862-d98f-4964-bda8-dae494b54a5c",
   "metadata": {},
   "outputs": [
    {
     "name": "stdout",
     "output_type": "stream",
     "text": [
      "4096\n"
     ]
    }
   ],
   "source": [
    "# What are the dimensions of the embedding vector for llama-3.1?\n",
    "print(dim)"
   ]
  },
  {
   "cell_type": "code",
   "execution_count": 24,
   "id": "4d425dd8-5bce-4c97-958a-28bd4ae298ed",
   "metadata": {},
   "outputs": [
    {
     "data": {
      "text/plain": [
       "torch.Size([5])"
      ]
     },
     "execution_count": 24,
     "metadata": {},
     "output_type": "execute_result"
    }
   ],
   "source": [
    "tokens.shape"
   ]
  },
  {
   "cell_type": "markdown",
   "id": "9f41eb84-6371-4823-9971-620d1b43a4bd",
   "metadata": {},
   "source": [
    "### Transform input sequence to embeddings for each word in the sequence\n",
    "We need to transform our input vector (sequence of seventeen words encoded as tokens) from \n",
    "its current dimensions of (17 x 1) to (17 x 4096), to capture the embedding for each of the \n",
    "seventeen words in our input vector"
   ]
  },
  {
   "cell_type": "code",
   "execution_count": 25,
   "id": "51661b06-24b2-4b03-9354-49132e14266b",
   "metadata": {},
   "outputs": [
    {
     "data": {
      "text/plain": [
       "torch.Size([5, 4096])"
      ]
     },
     "execution_count": 25,
     "metadata": {},
     "output_type": "execute_result"
    }
   ],
   "source": [
    "# Define embedding layer with vocab size and embedding dimension\n",
    "embedding_layer = torch.nn.Embedding(vocab_size, dim)\n",
    "\n",
    "# Copy pre-trained token embeddings to the embedding layer\n",
    "embedding_layer.weight.data.copy_(model[\"tok_embeddings.weight\"])\n",
    "\n",
    "# Get token embeddings for given tokens, converting to torch.bfloat16 format\n",
    "token_embeddings_unnormalized = embedding_layer(tokens).to(torch.bfloat16)\n",
    "\n",
    "# Print shape of resulting token embeddings\n",
    "token_embeddings_unnormalized.shape\n"
   ]
  },
  {
   "cell_type": "markdown",
   "id": "7eec1fa3-9b76-4854-9260-795ab5f08279",
   "metadata": {},
   "source": [
    "### Normalise our input vector using RMSNorm\n"
   ]
  },
  {
   "cell_type": "code",
   "execution_count": 26,
   "id": "e7d5dc6b-9039-4703-9b88-a9e54819c5e0",
   "metadata": {},
   "outputs": [],
   "source": [
    "# Calculating RMSNorm\n",
    "def rms_norm(tensor, norm_weights):\n",
    "\n",
    "    #print(\"tensor.shape = \", tensor.shape)\n",
    "    #print(\"norm_weights.shape = \", norm_weights.shape)\n",
    "    \n",
    "    # Calculate the mean of the square of tensor values along the last dimension\n",
    "    squared_mean = tensor.pow(2).mean(-1, keepdim=True)\n",
    "    #print(\"squared_mean.shape = \",squared_mean.shape)\n",
    "    #print(\"i.e. for each of the tokens, the mean of the squares of the embedding values for that token\")\n",
    "    #print(\"squared_mean = \",squared_mean)\n",
    "    \n",
    "    # Add a small value to avoid division by zero\n",
    "    normalized = torch.rsqrt(squared_mean + norm_eps) # note that rsqrt gives the inverse (reciprocal) of the square root\n",
    "    #print(\"normalized.shape = \",normalized.shape)\n",
    "    #print(\"i.e. the inverse square root of each squared mean\")\n",
    "    #print(\"normalized = \",normalized)\n",
    "    \n",
    "    # Multiply normalized tensor by the provided normalization weights\n",
    "    return (tensor * normalized) * norm_weights"
   ]
  },
  {
   "cell_type": "markdown",
   "id": "db8ef3ed-f98d-48b8-bc30-0788d23a37a9",
   "metadata": {},
   "source": [
    "Use the attention weights from the first layer of our transformer architecture to normalise our embeddings"
   ]
  },
  {
   "cell_type": "code",
   "execution_count": 27,
   "id": "89784118-1ace-4cfb-9e75-f5eb1b36563e",
   "metadata": {},
   "outputs": [
    {
     "data": {
      "text/plain": [
       "torch.Size([5, 4096])"
      ]
     },
     "execution_count": 27,
     "metadata": {},
     "output_type": "execute_result"
    }
   ],
   "source": [
    "# using RMS normalization and provided normalization weights\n",
    "token_embeddings = rms_norm(token_embeddings_unnormalized, \n",
    "                            model[\"layers.0.attention_norm.weight\"])\n",
    "\n",
    "# Print the shape of the resulting token embeddings\n",
    "token_embeddings.shape"
   ]
  },
  {
   "cell_type": "markdown",
   "id": "3ce6b49d-9556-46de-8510-0f220809d4e0",
   "metadata": {},
   "source": [
    "## Part 3: Start building our attention heads.  Build the first head for the first layer"
   ]
  },
  {
   "cell_type": "code",
   "execution_count": 28,
   "id": "efc7be39-6664-4bed-a8a1-f98b1964d573",
   "metadata": {},
   "outputs": [
    {
     "name": "stdout",
     "output_type": "stream",
     "text": [
      "torch.Size([4096, 4096]) torch.Size([1024, 4096]) torch.Size([1024, 4096]) torch.Size([4096, 4096])\n"
     ]
    }
   ],
   "source": [
    "# Print the shapes of different weights\n",
    "print(\n",
    "    # Query weight shape\n",
    "    model[\"layers.0.attention.wq.weight\"].shape,\n",
    "    \n",
    "    # Key weight shape\n",
    "    model[\"layers.0.attention.wk.weight\"].shape,\n",
    "    \n",
    "    # Value weight shape\n",
    "    model[\"layers.0.attention.wv.weight\"].shape,\n",
    "    \n",
    "    # Output weight shape\n",
    "    model[\"layers.0.attention.wo.weight\"].shape\n",
    ")"
   ]
  },
  {
   "cell_type": "markdown",
   "id": "fcad5614-2f7f-4c63-80e4-ac18d3352991",
   "metadata": {},
   "source": [
    "Now remember that each layer (in this case layer zero) has a number of attention heads.  These weights combine the weights for all the heads in this layer.  Let's reshape so that each attention head's wieghts are separate..."
   ]
  },
  {
   "cell_type": "code",
   "execution_count": 29,
   "id": "9d00c6a1-aefc-4d0d-88dc-ff1dc28e292a",
   "metadata": {},
   "outputs": [
    {
     "name": "stdout",
     "output_type": "stream",
     "text": [
      "head_dim =  128\n"
     ]
    },
    {
     "data": {
      "text/plain": [
       "torch.Size([32, 128, 4096])"
      ]
     },
     "execution_count": 29,
     "metadata": {},
     "output_type": "execute_result"
    }
   ],
   "source": [
    "# Retrieve query weight for the first layer of attention\n",
    "q_layer0 = model[\"layers.0.attention.wq.weight\"]\n",
    "\n",
    "# Calculate dimension per head\n",
    "head_dim = q_layer0.shape[0] // n_heads\n",
    "print(\"head_dim = \", head_dim)\n",
    "\n",
    "# Reshape query weight to separate heads\n",
    "q_layer0 = q_layer0.view(n_heads, head_dim, dim)\n",
    "\n",
    "# Print the shape of the reshaped query weight tensor\n",
    "q_layer0.shape"
   ]
  },
  {
   "cell_type": "code",
   "execution_count": 30,
   "id": "538a48df-bbee-42fc-af8a-d484aca58ace",
   "metadata": {},
   "outputs": [
    {
     "data": {
      "text/plain": [
       "torch.Size([128, 4096])"
      ]
     },
     "execution_count": 30,
     "metadata": {},
     "output_type": "execute_result"
    }
   ],
   "source": [
    "# Extract the query weight for the first head of the first layer of attention\n",
    "q_layer0_head0 = q_layer0[0]\n",
    "\n",
    "# Print the shape of the extracted query weight tensor for the first head\n",
    "q_layer0_head0.shape"
   ]
  },
  {
   "cell_type": "markdown",
   "id": "d96c767e-86a0-46b3-b1b7-815c673bcdc0",
   "metadata": {},
   "source": [
    "Multiply the query weights with the token embedding for each token, to get our query vector"
   ]
  },
  {
   "cell_type": "code",
   "execution_count": 31,
   "id": "0469c0c3-c73a-4dcf-8e2f-44cd87b7c893",
   "metadata": {
    "scrolled": true
   },
   "outputs": [
    {
     "name": "stdout",
     "output_type": "stream",
     "text": [
      "token_embeddings.shape =  torch.Size([5, 4096])\n",
      "q_layer0_head0.T.shape =  torch.Size([4096, 128])\n",
      "q_per_token.shape =  torch.Size([5, 128])\n"
     ]
    }
   ],
   "source": [
    "# Matrix multiplication: token embeddings with transpose of query weight for first head\n",
    "print(\"token_embeddings.shape = \", token_embeddings.shape)\n",
    "print(\"q_layer0_head0.T.shape = \", q_layer0_head0.T.shape)\n",
    "\n",
    "q_per_token = torch.matmul(token_embeddings, q_layer0_head0.T)\n",
    "\n",
    "# Shape of resulting tensor: queries per token\n",
    "print(\"q_per_token.shape = \",q_per_token.shape)"
   ]
  },
  {
   "cell_type": "markdown",
   "id": "d599a326-74c5-4814-b29a-0a11e5650617",
   "metadata": {},
   "source": [
    "### Implement positional encoding with RoPE\n",
    "We now need to implement positional encoding so that the query vectors encode something about their position in the sequence.  \n",
    "Split the query vectors into pairs and apply rotational angle shift to each pair:"
   ]
  },
  {
   "cell_type": "code",
   "execution_count": 32,
   "id": "1552c011-3d32-4b2b-930b-24814ce175ee",
   "metadata": {},
   "outputs": [
    {
     "data": {
      "text/plain": [
       "torch.Size([5, 64, 2])"
      ]
     },
     "execution_count": 32,
     "metadata": {},
     "output_type": "execute_result"
    }
   ],
   "source": [
    "# Convert queries per token to float and split into pairs\n",
    "q_per_token_split_into_pairs = q_per_token.float().view(q_per_token.shape[0], -1, 2)\n",
    "\n",
    "# Print the shape of the resulting tensor after splitting into pairs\n",
    "q_per_token_split_into_pairs.shape"
   ]
  },
  {
   "cell_type": "code",
   "execution_count": 33,
   "id": "284c500d-79dd-45db-a1ce-2bebf7d0d258",
   "metadata": {},
   "outputs": [
    {
     "data": {
      "text/plain": [
       "tensor([[-8.3984e-02, -1.6113e-01,  2.9102e-01, -2.9102e-01,  3.1836e-01,\n",
       "         -4.1406e-01, -1.5723e-01,  3.8086e-01,  4.6289e-01, -2.3926e-01,\n",
       "         -6.0156e-01,  4.0820e-01, -4.3945e-02, -4.9023e-01,  8.2031e-02,\n",
       "         -1.7285e-01,  1.2344e+00,  4.3164e-01,  8.5938e-02, -3.9844e-01,\n",
       "         -9.0234e-01, -1.4941e-01, -1.6250e+00, -7.6172e-02,  1.1172e+00,\n",
       "          2.4023e-01,  5.6250e-01,  2.0312e-01, -2.6758e-01,  2.0020e-01,\n",
       "          8.9062e-01,  4.5508e-01,  1.3867e-01, -7.3047e-01, -3.1641e-01,\n",
       "         -3.3984e-01, -4.1602e-01,  1.9336e-01,  7.5391e-01,  1.1016e+00,\n",
       "          1.2695e-01, -2.6953e-01, -9.6875e-01,  6.5625e-01, -7.1094e-01,\n",
       "          4.5703e-01,  1.1719e+00, -4.8047e-01, -6.9922e-01,  4.0039e-01,\n",
       "         -2.6367e-01, -1.0625e+00, -3.5352e-01, -9.9121e-02,  1.4844e+00,\n",
       "         -5.0000e-01,  4.3213e-02, -1.4941e-01, -1.0703e+00,  3.5547e-01,\n",
       "         -1.0498e-01, -2.4219e-01,  3.6719e-01,  1.0000e+00,  1.1230e-01,\n",
       "          6.0938e-01,  1.4297e+00, -6.7578e-01, -3.7598e-02,  8.1055e-02,\n",
       "          6.0791e-02,  1.6113e-01, -7.5195e-02,  3.8330e-02,  1.3672e-01,\n",
       "          2.0508e-01,  1.0889e-01,  2.2812e+00, -2.5469e+00,  4.0625e-01,\n",
       "         -4.7656e-01, -1.6875e+00,  2.0898e-01,  2.7148e-01, -4.5508e-01,\n",
       "         -2.0469e+00, -1.0693e-01,  1.1230e-01, -9.9219e-01,  3.1445e-01,\n",
       "         -7.2021e-03, -4.6094e-01, -6.2012e-02, -6.0547e-01, -1.9336e-01,\n",
       "          5.8594e-01, -2.7930e-01,  6.9531e-01,  2.9492e-01, -6.6406e-01,\n",
       "         -1.5234e-01,  7.5000e-01, -1.7090e-01,  3.4570e-01,  3.4766e-01,\n",
       "         -4.8633e-01,  8.6719e-01,  5.7031e-01,  7.2266e-01,  5.8203e-01,\n",
       "          3.3203e-01, -2.9297e-01, -5.0391e-01, -3.8818e-02,  3.3398e-01,\n",
       "         -8.3984e-01, -5.4932e-02, -5.3516e-01, -1.1328e-01, -3.9844e-01,\n",
       "          2.7539e-01,  7.5000e-01,  4.9805e-01, -1.3281e-01,  4.3359e-01,\n",
       "          9.2188e-01,  5.0000e-01,  3.4570e-01],\n",
       "        [ 4.6289e-01, -5.3711e-02,  1.2812e+00, -6.3672e-01,  8.7500e-01,\n",
       "         -1.3750e+00, -1.2344e+00,  5.7422e-01,  1.1094e+00, -1.4062e+00,\n",
       "         -1.2031e+00,  9.9219e-01, -8.5547e-01, -1.0625e+00, -5.1172e-01,\n",
       "         -3.0078e-01,  2.0625e+00, -2.2266e-01,  1.6211e-01, -8.7500e-01,\n",
       "         -1.8750e+00, -5.9375e-01, -3.3438e+00,  3.9307e-02,  2.6875e+00,\n",
       "          5.2344e-01,  2.8906e+00, -1.9287e-02,  8.0859e-01,  8.8281e-01,\n",
       "          1.7031e+00,  3.0664e-01,  2.0508e-01, -1.1719e+00, -1.0312e+00,\n",
       "         -4.1406e-01, -6.0547e-01,  5.6250e-01,  1.3906e+00,  8.2422e-01,\n",
       "          1.7266e+00, -7.1094e-01, -3.8672e-01,  1.3828e+00, -1.2734e+00,\n",
       "          1.1641e+00,  1.4297e+00, -7.4609e-01, -9.8828e-01,  1.3984e+00,\n",
       "         -1.2422e+00, -1.8828e+00, -3.4180e-01, -1.7383e-01,  2.1719e+00,\n",
       "         -8.7109e-01, -1.0156e-01, -4.5703e-01, -3.2031e+00,  1.1484e+00,\n",
       "         -4.4922e-01, -2.7344e-01,  9.4531e-01,  3.2031e+00,  5.0391e-01,\n",
       "          6.1719e-01,  4.7812e+00, -1.6641e+00,  2.1973e-01,  2.0605e-01,\n",
       "          3.4180e-01, -1.3965e-01, -3.5156e-01,  1.1816e-01,  3.8672e-01,\n",
       "          1.3379e-01, -3.2031e-01,  7.1250e+00, -9.0000e+00,  7.6953e-01,\n",
       "         -1.0547e+00, -6.6562e+00,  3.1494e-02,  4.9805e-01, -1.6641e+00,\n",
       "         -6.9375e+00, -2.0801e-01,  2.9102e-01, -3.0938e+00,  8.9453e-01,\n",
       "          1.1377e-01, -1.0547e+00, -3.6133e-01, -1.2578e+00, -6.1328e-01,\n",
       "          1.5547e+00, -7.9297e-01,  1.7578e+00,  7.9688e-01, -1.7266e+00,\n",
       "         -3.0469e-01,  2.0156e+00, -6.8359e-01,  1.1875e+00,  8.7891e-01,\n",
       "         -1.3672e+00,  2.3125e+00,  1.5000e+00,  1.5781e+00,  1.0469e+00,\n",
       "          9.3750e-01, -8.5938e-01, -1.3750e+00,  3.9648e-01,  7.9297e-01,\n",
       "         -1.8281e+00,  6.6797e-01, -1.5234e+00,  1.0400e-01, -6.0156e-01,\n",
       "          7.6562e-01,  1.8906e+00,  1.0156e+00, -2.2168e-01,  8.8281e-01,\n",
       "          1.9453e+00,  1.2734e+00,  9.8047e-01],\n",
       "        [ 7.4609e-01,  1.0107e-01,  1.8672e+00, -9.2969e-01,  1.2969e+00,\n",
       "         -1.4453e+00, -1.7188e+00,  1.0625e+00,  2.0938e+00, -1.0547e+00,\n",
       "         -1.2188e+00,  2.3594e+00, -5.8984e-01, -1.1797e+00, -7.8613e-02,\n",
       "         -1.2422e+00,  2.1250e+00,  8.8867e-02, -1.8555e-01, -1.2812e+00,\n",
       "         -2.1094e+00, -3.2422e-01, -2.6094e+00, -4.1797e-01,  2.9375e+00,\n",
       "          9.1016e-01,  4.7188e+00,  2.8711e-01,  3.3789e-01,  9.0625e-01,\n",
       "          1.9688e+00,  8.4375e-01,  8.0859e-01, -1.6172e+00, -1.0156e+00,\n",
       "         -3.9062e-01,  1.1562e+00,  1.1172e+00,  1.1797e+00,  1.6641e+00,\n",
       "          3.2969e+00, -6.4062e-01, -1.9297e+00,  1.4453e+00, -2.6562e-01,\n",
       "          1.4922e+00,  1.9297e+00, -6.4844e-01, -2.5312e+00,  9.6094e-01,\n",
       "         -1.9219e+00, -1.5781e+00,  8.7891e-02,  3.8605e-03,  2.0156e+00,\n",
       "         -1.1172e+00, -5.2734e-01, -5.2344e-01, -3.3125e+00,  1.1875e+00,\n",
       "         -3.2227e-01, -7.1484e-01,  6.9141e-01,  3.9531e+00,  3.8477e-01,\n",
       "          3.3789e-01,  5.0312e+00, -1.4375e+00,  2.7930e-01, -4.1016e-02,\n",
       "          2.0801e-01, -3.5352e-01, -3.7500e-01,  4.4336e-01,  4.8633e-01,\n",
       "         -7.7148e-02, -5.5469e-01,  7.0312e+00, -9.0000e+00,  8.2812e-01,\n",
       "         -1.2031e+00, -7.9375e+00,  2.8516e-01,  2.6562e-01, -1.6875e+00,\n",
       "         -7.6250e+00, -1.8799e-02,  1.4551e-01, -3.5625e+00,  8.2031e-01,\n",
       "          2.3145e-01, -1.0703e+00,  7.0703e-01, -1.2109e+00, -2.7734e-01,\n",
       "          1.7344e+00, -6.8359e-01,  1.9766e+00,  1.1562e+00, -1.5000e+00,\n",
       "         -1.0391e+00,  1.8047e+00, -6.2500e-01,  1.5859e+00,  8.7500e-01,\n",
       "         -1.2188e+00,  2.3125e+00,  1.4297e+00,  1.5469e+00,  1.5625e+00,\n",
       "          8.1250e-01, -1.2422e+00, -8.3203e-01,  3.0078e-01,  8.7891e-01,\n",
       "         -2.6875e+00,  8.9844e-01, -1.3672e+00,  4.5703e-01, -1.4609e+00,\n",
       "          1.3672e+00,  1.6797e+00,  1.5312e+00, -1.0889e-01,  7.5000e-01,\n",
       "          1.9688e+00,  1.3828e+00,  9.2969e-01],\n",
       "        [ 7.8906e-01,  1.6602e-01,  2.3125e+00, -1.0469e+00,  1.6016e+00,\n",
       "         -2.0781e+00, -1.1094e+00,  1.6406e+00,  2.0312e+00, -1.1641e+00,\n",
       "         -1.6484e+00,  2.5000e+00, -9.7656e-01, -1.5000e+00, -7.5684e-02,\n",
       "         -1.4219e+00,  2.9688e+00, -8.8867e-02, -6.3672e-01, -2.2969e+00,\n",
       "         -2.9844e+00,  2.7148e-01, -5.2188e+00,  1.1621e-01,  3.9531e+00,\n",
       "          1.2695e-01,  3.8594e+00,  1.9043e-01, -1.1230e-01,  8.7500e-01,\n",
       "          2.5156e+00,  1.0312e+00,  3.9648e-01, -2.1406e+00, -7.5391e-01,\n",
       "         -1.0781e+00, -2.5586e-01,  3.7891e-01,  1.7891e+00,  2.9062e+00,\n",
       "          1.1641e+00, -6.7578e-01, -2.0469e+00,  1.3438e+00, -1.5938e+00,\n",
       "          1.1016e+00,  2.7812e+00, -1.4375e+00, -1.9688e+00,  9.4922e-01,\n",
       "         -1.1016e+00, -2.0781e+00, -7.5000e-01, -5.0781e-01,  3.7031e+00,\n",
       "         -8.8281e-01,  5.7861e-02, -1.4551e-01, -3.6562e+00,  1.0391e+00,\n",
       "         -2.9688e-01, -7.7734e-01,  1.0625e+00,  3.5781e+00,  3.3398e-01,\n",
       "          6.7969e-01,  5.0312e+00, -1.4141e+00,  1.4844e-01,  7.9956e-03,\n",
       "          3.0273e-01,  2.2266e-01, -6.7969e-01,  2.6562e-01,  3.1836e-01,\n",
       "          3.5742e-01, -3.1836e-01,  7.4375e+00, -9.6875e+00,  8.2422e-01,\n",
       "         -1.1797e+00, -7.0625e+00,  4.7852e-01,  1.5137e-01, -1.1016e+00,\n",
       "         -8.0000e+00, -4.4922e-01,  2.7539e-01, -3.2500e+00,  8.7500e-01,\n",
       "          2.3926e-01, -1.2500e+00,  7.2656e-01, -1.6719e+00, -5.5078e-01,\n",
       "          1.7891e+00, -5.6641e-01,  2.3750e+00,  7.3438e-01, -2.1406e+00,\n",
       "         -7.3828e-01,  2.2656e+00, -6.7578e-01,  1.3359e+00,  8.3594e-01,\n",
       "         -1.1094e+00,  2.7969e+00,  1.5781e+00,  1.9766e+00,  1.0469e+00,\n",
       "          1.0156e+00, -1.2344e+00, -1.6250e+00, -3.2227e-01,  8.2812e-01,\n",
       "         -2.2188e+00,  6.4062e-01, -1.9453e+00,  6.7578e-01, -1.0000e+00,\n",
       "          6.7578e-01,  2.1875e+00,  1.3906e+00, -3.5938e-01,  1.1172e+00,\n",
       "          2.2656e+00,  1.3516e+00,  7.4609e-01],\n",
       "        [ 7.7344e-01, -3.8605e-03,  1.9453e+00, -1.0312e+00,  1.1875e+00,\n",
       "         -1.5859e+00, -2.0625e+00,  1.1328e+00,  1.9609e+00, -1.3203e+00,\n",
       "         -1.3984e+00,  2.3750e+00, -1.0938e+00, -1.3203e+00,  4.3457e-02,\n",
       "         -1.0625e+00,  1.8906e+00, -1.3672e-01, -9.9609e-02, -1.4766e+00,\n",
       "         -2.6094e+00, -2.2559e-01, -2.5000e+00, -3.7891e-01,  3.5469e+00,\n",
       "          6.9922e-01,  4.6875e+00,  2.3828e-01,  4.9219e-01,  1.0938e+00,\n",
       "          1.8438e+00,  4.1797e-01,  8.3594e-01, -2.1094e+00, -1.1406e+00,\n",
       "         -2.3047e-01,  6.3477e-02,  9.9609e-01,  1.2344e+00,  1.0469e+00,\n",
       "          2.4219e+00, -5.9375e-01, -1.6641e+00,  1.5547e+00, -1.2031e+00,\n",
       "          1.3047e+00,  1.9375e+00, -3.2812e-01, -2.0938e+00,  1.4922e+00,\n",
       "         -1.8594e+00, -1.6562e+00,  4.2969e-02, -9.7156e-06,  1.8125e+00,\n",
       "         -1.3672e+00, -6.7578e-01, -6.1719e-01, -3.5625e+00,  1.2812e+00,\n",
       "          6.7383e-02, -1.1875e+00,  7.6172e-01,  3.8906e+00,  3.4766e-01,\n",
       "          3.0859e-01,  5.2188e+00, -1.4688e+00,  7.0801e-02, -4.2188e-01,\n",
       "          1.0205e-01, -2.7930e-01,  8.6670e-03,  7.1484e-01,  4.5117e-01,\n",
       "          3.6719e-01, -6.2891e-01,  7.2812e+00, -9.5000e+00,  7.1484e-01,\n",
       "         -1.0781e+00, -8.1250e+00,  2.2852e-01,  1.6406e-01, -1.4453e+00,\n",
       "         -8.1875e+00, -4.5117e-01,  1.1426e-01, -3.5312e+00,  1.2734e+00,\n",
       "          5.3516e-01, -1.0859e+00,  7.8125e-01, -1.3906e+00, -5.3125e-01,\n",
       "          1.7812e+00,  1.0156e-01,  1.8281e+00,  1.3750e+00, -2.0781e+00,\n",
       "         -2.0938e+00,  1.9531e+00, -3.1250e-01,  1.9844e+00,  9.4531e-01,\n",
       "         -9.7266e-01,  2.4219e+00,  1.3906e+00,  1.7266e+00,  1.4531e+00,\n",
       "          7.3438e-01, -1.6797e+00, -8.1250e-01,  1.6113e-01,  6.5625e-01,\n",
       "         -2.5156e+00,  7.0703e-01, -1.4766e+00,  6.0938e-01, -1.4141e+00,\n",
       "          1.1953e+00,  1.9219e+00,  1.4297e+00,  3.7891e-01,  6.2500e-01,\n",
       "          1.9688e+00,  1.4844e+00,  7.0703e-01]], dtype=torch.bfloat16,\n",
       "       grad_fn=<MmBackward0>)"
      ]
     },
     "execution_count": 33,
     "metadata": {},
     "output_type": "execute_result"
    }
   ],
   "source": [
    "q_per_token"
   ]
  },
  {
   "cell_type": "code",
   "execution_count": 35,
   "id": "edf615a9-20f3-4464-a7fd-e9f6712e74dc",
   "metadata": {},
   "outputs": [
    {
     "data": {
      "text/plain": [
       "tensor([0.0000, 0.0156, 0.0312, 0.0469, 0.0625, 0.0781, 0.0938, 0.1094, 0.1250,\n",
       "        0.1406, 0.1562, 0.1719, 0.1875, 0.2031, 0.2188, 0.2344, 0.2500, 0.2656,\n",
       "        0.2812, 0.2969, 0.3125, 0.3281, 0.3438, 0.3594, 0.3750, 0.3906, 0.4062,\n",
       "        0.4219, 0.4375, 0.4531, 0.4688, 0.4844, 0.5000, 0.5156, 0.5312, 0.5469,\n",
       "        0.5625, 0.5781, 0.5938, 0.6094, 0.6250, 0.6406, 0.6562, 0.6719, 0.6875,\n",
       "        0.7031, 0.7188, 0.7344, 0.7500, 0.7656, 0.7812, 0.7969, 0.8125, 0.8281,\n",
       "        0.8438, 0.8594, 0.8750, 0.8906, 0.9062, 0.9219, 0.9375, 0.9531, 0.9688,\n",
       "        0.9844])"
      ]
     },
     "execution_count": 35,
     "metadata": {},
     "output_type": "execute_result"
    }
   ],
   "source": [
    "# Generate values from 0 to 1 split into 64 parts\n",
    "zero_to_one_split_into_64_parts = torch.tensor(range(64))/64\n",
    "\n",
    "# Print the resulting tensor\n",
    "zero_to_one_split_into_64_parts"
   ]
  },
  {
   "cell_type": "code",
   "execution_count": 36,
   "id": "0e017063-6cf6-487a-a2a8-421608227a58",
   "metadata": {},
   "outputs": [
    {
     "data": {
      "text/plain": [
       "tensor(500000.)"
      ]
     },
     "execution_count": 36,
     "metadata": {},
     "output_type": "execute_result"
    }
   ],
   "source": [
    "rope_theta"
   ]
  },
  {
   "cell_type": "code",
   "execution_count": 37,
   "id": "af464d51-c1ed-45cc-beb0-2e69d7fb2594",
   "metadata": {},
   "outputs": [
    {
     "data": {
      "text/plain": [
       "tensor([1.0000e+00, 8.1462e-01, 6.6360e-01, 5.4058e-01, 4.4037e-01, 3.5873e-01,\n",
       "        2.9223e-01, 2.3805e-01, 1.9392e-01, 1.5797e-01, 1.2869e-01, 1.0483e-01,\n",
       "        8.5397e-02, 6.9566e-02, 5.6670e-02, 4.6164e-02, 3.7606e-02, 3.0635e-02,\n",
       "        2.4955e-02, 2.0329e-02, 1.6560e-02, 1.3490e-02, 1.0990e-02, 8.9523e-03,\n",
       "        7.2927e-03, 5.9407e-03, 4.8394e-03, 3.9423e-03, 3.2114e-03, 2.6161e-03,\n",
       "        2.1311e-03, 1.7360e-03, 1.4142e-03, 1.1520e-03, 9.3847e-04, 7.6450e-04,\n",
       "        6.2277e-04, 5.0732e-04, 4.1327e-04, 3.3666e-04, 2.7425e-04, 2.2341e-04,\n",
       "        1.8199e-04, 1.4825e-04, 1.2077e-04, 9.8381e-05, 8.0143e-05, 6.5286e-05,\n",
       "        5.3183e-05, 4.3324e-05, 3.5292e-05, 2.8750e-05, 2.3420e-05, 1.9078e-05,\n",
       "        1.5542e-05, 1.2660e-05, 1.0313e-05, 8.4015e-06, 6.8440e-06, 5.5752e-06,\n",
       "        4.5417e-06, 3.6997e-06, 3.0139e-06, 2.4551e-06])"
      ]
     },
     "execution_count": 37,
     "metadata": {},
     "output_type": "execute_result"
    }
   ],
   "source": [
    "freqs = 1.0 / (rope_theta ** zero_to_one_split_into_64_parts)\n",
    "\n",
    "# Display the resulting frequencies\n",
    "freqs"
   ]
  },
  {
   "cell_type": "code",
   "execution_count": 38,
   "id": "9912a658-7ba2-400c-a8fd-65a5af0983e2",
   "metadata": {},
   "outputs": [
    {
     "data": {
      "text/plain": [
       "0.8148845202809214"
      ]
     },
     "execution_count": 38,
     "metadata": {},
     "output_type": "execute_result"
    }
   ],
   "source": [
    "1/(500000**0.0156)"
   ]
  },
  {
   "cell_type": "code",
   "execution_count": 39,
   "id": "80f246fe-7f32-4b99-80f9-4c6c6b764e25",
   "metadata": {},
   "outputs": [
    {
     "name": "stdout",
     "output_type": "stream",
     "text": [
      "q_per_token_as_complex_numbers.shape =  torch.Size([5, 64])\n",
      "freqs_for_each_token.shape =  torch.Size([5, 64])\n",
      "freqs_for_each_token =  tensor([[0.0000e+00, 0.0000e+00, 0.0000e+00, 0.0000e+00, 0.0000e+00, 0.0000e+00,\n",
      "         0.0000e+00, 0.0000e+00, 0.0000e+00, 0.0000e+00, 0.0000e+00, 0.0000e+00,\n",
      "         0.0000e+00, 0.0000e+00, 0.0000e+00, 0.0000e+00, 0.0000e+00, 0.0000e+00,\n",
      "         0.0000e+00, 0.0000e+00, 0.0000e+00, 0.0000e+00, 0.0000e+00, 0.0000e+00,\n",
      "         0.0000e+00, 0.0000e+00, 0.0000e+00, 0.0000e+00, 0.0000e+00, 0.0000e+00,\n",
      "         0.0000e+00, 0.0000e+00, 0.0000e+00, 0.0000e+00, 0.0000e+00, 0.0000e+00,\n",
      "         0.0000e+00, 0.0000e+00, 0.0000e+00, 0.0000e+00, 0.0000e+00, 0.0000e+00,\n",
      "         0.0000e+00, 0.0000e+00, 0.0000e+00, 0.0000e+00, 0.0000e+00, 0.0000e+00,\n",
      "         0.0000e+00, 0.0000e+00, 0.0000e+00, 0.0000e+00, 0.0000e+00, 0.0000e+00,\n",
      "         0.0000e+00, 0.0000e+00, 0.0000e+00, 0.0000e+00, 0.0000e+00, 0.0000e+00,\n",
      "         0.0000e+00, 0.0000e+00, 0.0000e+00, 0.0000e+00],\n",
      "        [1.0000e+00, 8.1462e-01, 6.6360e-01, 5.4058e-01, 4.4037e-01, 3.5873e-01,\n",
      "         2.9223e-01, 2.3805e-01, 1.9392e-01, 1.5797e-01, 1.2869e-01, 1.0483e-01,\n",
      "         8.5397e-02, 6.9566e-02, 5.6670e-02, 4.6164e-02, 3.7606e-02, 3.0635e-02,\n",
      "         2.4955e-02, 2.0329e-02, 1.6560e-02, 1.3490e-02, 1.0990e-02, 8.9523e-03,\n",
      "         7.2927e-03, 5.9407e-03, 4.8394e-03, 3.9423e-03, 3.2114e-03, 2.6161e-03,\n",
      "         2.1311e-03, 1.7360e-03, 1.4142e-03, 1.1520e-03, 9.3847e-04, 7.6450e-04,\n",
      "         6.2277e-04, 5.0732e-04, 4.1327e-04, 3.3666e-04, 2.7425e-04, 2.2341e-04,\n",
      "         1.8199e-04, 1.4825e-04, 1.2077e-04, 9.8381e-05, 8.0143e-05, 6.5286e-05,\n",
      "         5.3183e-05, 4.3324e-05, 3.5292e-05, 2.8750e-05, 2.3420e-05, 1.9078e-05,\n",
      "         1.5542e-05, 1.2660e-05, 1.0313e-05, 8.4015e-06, 6.8440e-06, 5.5752e-06,\n",
      "         4.5417e-06, 3.6997e-06, 3.0139e-06, 2.4551e-06],\n",
      "        [2.0000e+00, 1.6292e+00, 1.3272e+00, 1.0812e+00, 8.8073e-01, 7.1746e-01,\n",
      "         5.8446e-01, 4.7611e-01, 3.8785e-01, 3.1595e-01, 2.5737e-01, 2.0966e-01,\n",
      "         1.7079e-01, 1.3913e-01, 1.1334e-01, 9.2328e-02, 7.5212e-02, 6.1269e-02,\n",
      "         4.9911e-02, 4.0658e-02, 3.3121e-02, 2.6981e-02, 2.1979e-02, 1.7905e-02,\n",
      "         1.4585e-02, 1.1881e-02, 9.6788e-03, 7.8846e-03, 6.4229e-03, 5.2322e-03,\n",
      "         4.2622e-03, 3.4721e-03, 2.8284e-03, 2.3041e-03, 1.8769e-03, 1.5290e-03,\n",
      "         1.2455e-03, 1.0146e-03, 8.2655e-04, 6.7332e-04, 5.4850e-04, 4.4681e-04,\n",
      "         3.6398e-04, 2.9651e-04, 2.4154e-04, 1.9676e-04, 1.6029e-04, 1.3057e-04,\n",
      "         1.0637e-04, 8.6648e-05, 7.0585e-05, 5.7499e-05, 4.6840e-05, 3.8157e-05,\n",
      "         3.1083e-05, 2.5321e-05, 2.0627e-05, 1.6803e-05, 1.3688e-05, 1.1150e-05,\n",
      "         9.0833e-06, 7.3994e-06, 6.0277e-06, 4.9103e-06],\n",
      "        [3.0000e+00, 2.4439e+00, 1.9908e+00, 1.6217e+00, 1.3211e+00, 1.0762e+00,\n",
      "         8.7668e-01, 7.1416e-01, 5.8177e-01, 4.7392e-01, 3.8606e-01, 3.1449e-01,\n",
      "         2.5619e-01, 2.0870e-01, 1.7001e-01, 1.3849e-01, 1.1282e-01, 9.1904e-02,\n",
      "         7.4866e-02, 6.0987e-02, 4.9681e-02, 4.0471e-02, 3.2969e-02, 2.6857e-02,\n",
      "         2.1878e-02, 1.7822e-02, 1.4518e-02, 1.1827e-02, 9.6343e-03, 7.8483e-03,\n",
      "         6.3934e-03, 5.2081e-03, 4.2426e-03, 3.4561e-03, 2.8154e-03, 2.2935e-03,\n",
      "         1.8683e-03, 1.5220e-03, 1.2398e-03, 1.0100e-03, 8.2274e-04, 6.7022e-04,\n",
      "         5.4597e-04, 4.4476e-04, 3.6231e-04, 2.9514e-04, 2.4043e-04, 1.9586e-04,\n",
      "         1.5955e-04, 1.2997e-04, 1.0588e-04, 8.6249e-05, 7.0260e-05, 5.7235e-05,\n",
      "         4.6625e-05, 3.7981e-05, 3.0940e-05, 2.5204e-05, 2.0532e-05, 1.6726e-05,\n",
      "         1.3625e-05, 1.1099e-05, 9.0416e-06, 7.3654e-06],\n",
      "        [4.0000e+00, 3.2585e+00, 2.6544e+00, 2.1623e+00, 1.7615e+00, 1.4349e+00,\n",
      "         1.1689e+00, 9.5222e-01, 7.7569e-01, 6.3189e-01, 5.1475e-01, 4.1932e-01,\n",
      "         3.4159e-01, 2.7826e-01, 2.2668e-01, 1.8466e-01, 1.5042e-01, 1.2254e-01,\n",
      "         9.9822e-02, 8.1316e-02, 6.6242e-02, 5.3962e-02, 4.3958e-02, 3.5809e-02,\n",
      "         2.9171e-02, 2.3763e-02, 1.9358e-02, 1.5769e-02, 1.2846e-02, 1.0464e-02,\n",
      "         8.5245e-03, 6.9442e-03, 5.6569e-03, 4.6082e-03, 3.7539e-03, 3.0580e-03,\n",
      "         2.4911e-03, 2.0293e-03, 1.6531e-03, 1.3466e-03, 1.0970e-03, 8.9363e-04,\n",
      "         7.2797e-04, 5.9301e-04, 4.8308e-04, 3.9352e-04, 3.2057e-04, 2.6114e-04,\n",
      "         2.1273e-04, 1.7330e-04, 1.4117e-04, 1.1500e-04, 9.3680e-05, 7.6313e-05,\n",
      "         6.2166e-05, 5.0642e-05, 4.1254e-05, 3.3606e-05, 2.7376e-05, 2.2301e-05,\n",
      "         1.8167e-05, 1.4799e-05, 1.2055e-05, 9.8206e-06]])\n",
      "q_per_token_as_complex_numbers_rotated.shape =  torch.Size([5, 64])\n"
     ]
    }
   ],
   "source": [
    "# Convert queries per token to complex numbers\n",
    "q_per_token_as_complex_numbers = torch.view_as_complex(q_per_token_split_into_pairs)\n",
    "\n",
    "print(\"q_per_token_as_complex_numbers.shape = \", q_per_token_as_complex_numbers.shape)\n",
    "\n",
    "# Calculate frequencies for each token using outer product of arange(17) and freqs\n",
    "# freqs_for_each_token = torch.outer(torch.arange(17), freqs)\n",
    "freqs_for_each_token = torch.outer(torch.arange(input_seq_length), freqs)\n",
    "print(\"freqs_for_each_token.shape = \", freqs_for_each_token.shape)\n",
    "print(\"freqs_for_each_token = \", freqs_for_each_token)\n",
    "\n",
    "# Calculate complex numbers from frequencies_for_each_token using polar coordinates\n",
    "freqs_cis = torch.polar(torch.ones_like(freqs_for_each_token), freqs_for_each_token)\n",
    "\n",
    "# Rotate complex numbers by frequencies\n",
    "q_per_token_as_complex_numbers_rotated = q_per_token_as_complex_numbers * freqs_cis\n",
    "\n",
    "print(\"q_per_token_as_complex_numbers_rotated.shape = \", q_per_token_as_complex_numbers_rotated.shape)\n",
    "# Output: torch.Size([17, 64])"
   ]
  },
  {
   "cell_type": "code",
   "execution_count": 40,
   "id": "fca62356-56e3-490f-ad77-b84cc72b9b0b",
   "metadata": {},
   "outputs": [
    {
     "data": {
      "text/plain": [
       "torch.Size([5, 64, 2])"
      ]
     },
     "execution_count": 40,
     "metadata": {},
     "output_type": "execute_result"
    }
   ],
   "source": [
    "# Convert rotated complex numbers back to real numbers\n",
    "q_per_token_split_into_pairs_rotated = torch.view_as_real(q_per_token_as_complex_numbers_rotated)\n",
    "\n",
    "# Print the shape of the resulting tensor\n",
    "q_per_token_split_into_pairs_rotated.shape"
   ]
  },
  {
   "cell_type": "code",
   "execution_count": 41,
   "id": "d13cb92d-e851-433b-9771-1e848760ad40",
   "metadata": {},
   "outputs": [
    {
     "data": {
      "text/plain": [
       "torch.Size([5, 128])"
      ]
     },
     "execution_count": 41,
     "metadata": {},
     "output_type": "execute_result"
    }
   ],
   "source": [
    "# Reshape rotated token queries to match the original shape\n",
    "q_per_token_rotated = q_per_token_split_into_pairs_rotated.view(q_per_token.shape)\n",
    "\n",
    "# Print the shape of the resulting tensor\n",
    "q_per_token_rotated.shape"
   ]
  },
  {
   "cell_type": "markdown",
   "id": "240ca52a-0910-4522-bd1f-25d81a86e43b",
   "metadata": {},
   "source": [
    "### Now do the same for Keys"
   ]
  },
  {
   "cell_type": "code",
   "execution_count": 44,
   "id": "b3d1866d-9f53-4c13-ab35-4c49659b153b",
   "metadata": {},
   "outputs": [
    {
     "name": "stdout",
     "output_type": "stream",
     "text": [
      "Before reshape: k_layer0.shape =  torch.Size([1024, 4096])\n",
      "After reshape: k_layer0.shape =  torch.Size([8, 128, 4096])\n"
     ]
    },
    {
     "data": {
      "text/plain": [
       "torch.Size([5, 128])"
      ]
     },
     "execution_count": 44,
     "metadata": {},
     "output_type": "execute_result"
    }
   ],
   "source": [
    "# Extract the weight tensor for the attention mechanism's key in the first layer of the model\n",
    "k_layer0 = model[\"layers.0.attention.wk.weight\"]\n",
    "\n",
    "# Print the shape of the reshaped key weight tensor\n",
    "print(\"Before reshape: k_layer0.shape = \", k_layer0.shape)\n",
    "\n",
    "# Reshape key weight for the first layer of attention to separate heads\n",
    "k_layer0 = k_layer0.view(n_kv_heads, k_layer0.shape[0] // n_kv_heads, dim)\n",
    "\n",
    "# Print the shape of the reshaped key weight tensor\n",
    "print(\"After reshape: k_layer0.shape = \", k_layer0.shape)  # Output: torch.Size([8, 128, 4096])\n",
    "\n",
    "# Extract the key weight for the first head of the first layer of attention\n",
    "k_layer0_head0 = k_layer0[0]\n",
    "\n",
    "# Print the shape of the extracted key weight tensor for the first head\n",
    "k_layer0_head0.shape  # Output: torch.Size([128, 4096])\n",
    "\n",
    "# Calculate key per token by matrix multiplication\n",
    "k_per_token = torch.matmul(token_embeddings, k_layer0_head0.T)\n",
    "\n",
    "# Print the shape of the resulting tensor representing keys per token\n",
    "k_per_token.shape  # Output: torch.Size([17, 128])\n",
    "\n",
    "# Split key per token into pairs and convert to float\n",
    "k_per_token_split_into_pairs = k_per_token.float().view(k_per_token.shape[0], -1, 2)\n",
    "\n",
    "# Print the shape of the resulting tensor after splitting into pairs\n",
    "k_per_token_split_into_pairs.shape  # Output: torch.Size([17, 64, 2])\n",
    "\n",
    "# Convert key per token to complex numbers\n",
    "k_per_token_as_complex_numbers = torch.view_as_complex(k_per_token_split_into_pairs)\n",
    "\n",
    "# Print the shape of the resulting tensor representing key per token as complex numbers\n",
    "k_per_token_as_complex_numbers.shape  # Output: torch.Size([17, 64])\n",
    "\n",
    "# Rotate complex key per token by frequencies\n",
    "k_per_token_split_into_pairs_rotated = torch.view_as_real(k_per_token_as_complex_numbers * freqs_cis)\n",
    "\n",
    "# Print the shape of the rotated complex key per token\n",
    "k_per_token_split_into_pairs_rotated.shape  # Output: torch.Size([17, 64, 2])\n",
    "\n",
    "# Reshape rotated key per token to match the original shape\n",
    "k_per_token_rotated = k_per_token_split_into_pairs_rotated.view(k_per_token.shape)\n",
    "\n",
    "# Print the shape of the rotated key per token\n",
    "k_per_token_rotated.shape  # Output: torch.Size([17, 128])"
   ]
  },
  {
   "cell_type": "markdown",
   "id": "8f83f58c-8b01-42aa-9488-c935a3b531c7",
   "metadata": {},
   "source": [
    "### Implement self attention"
   ]
  },
  {
   "cell_type": "code",
   "execution_count": 45,
   "id": "0c685c16-d5d9-486a-838a-5176c079cc40",
   "metadata": {},
   "outputs": [
    {
     "name": "stdout",
     "output_type": "stream",
     "text": [
      "128\n",
      "torch.Size([5, 128]) torch.Size([128, 5])\n"
     ]
    }
   ],
   "source": [
    "print(head_dim)\n",
    "print(q_per_token_rotated.shape, k_per_token_rotated.T.shape)\n"
   ]
  },
  {
   "cell_type": "code",
   "execution_count": 46,
   "id": "dbf1ce45-06b9-4f4d-b2dc-cdc50910c377",
   "metadata": {},
   "outputs": [
    {
     "data": {
      "text/plain": [
       "torch.Size([5, 5])"
      ]
     },
     "execution_count": 46,
     "metadata": {},
     "output_type": "execute_result"
    }
   ],
   "source": [
    "# Calculate query-key dot products per token\n",
    "qk_per_token = torch.matmul(q_per_token_rotated, k_per_token_rotated.T) / (head_dim) ** 0.5\n",
    "\n",
    "# Print the shape of the resulting tensor representing query-key dot products per token\n",
    "qk_per_token.shape"
   ]
  },
  {
   "cell_type": "code",
   "execution_count": 47,
   "id": "8cbb3428-e3ab-4b6e-927c-19d543ef7a27",
   "metadata": {},
   "outputs": [
    {
     "data": {
      "text/plain": [
       "tensor([[ 3.7595,  2.3164,  1.0744,  1.6267,  0.9858],\n",
       "        [ 8.8772,  6.3576,  2.6731,  1.9593,  0.4560],\n",
       "        [ 9.1776,  8.4376,  5.4579,  3.1560,  0.8873],\n",
       "        [10.2002,  9.7247,  6.7453,  6.5437,  1.7883],\n",
       "        [ 8.5129,  8.2732,  7.8128,  6.9905,  5.5043]], grad_fn=<DivBackward0>)"
      ]
     },
     "execution_count": 47,
     "metadata": {},
     "output_type": "execute_result"
    }
   ],
   "source": [
    "# Result is a 17 x 17 matrix with the attention scores of every word in the input sequence with every other word (including itself)\n",
    "qk_per_token"
   ]
  },
  {
   "cell_type": "code",
   "execution_count": 48,
   "id": "b500998f-ed00-4124-89c2-9c67829381fc",
   "metadata": {},
   "outputs": [
    {
     "data": {
      "text/plain": [
       "tensor([[0., -inf, -inf, -inf, -inf],\n",
       "        [0., 0., -inf, -inf, -inf],\n",
       "        [0., 0., 0., -inf, -inf],\n",
       "        [0., 0., 0., 0., -inf],\n",
       "        [0., 0., 0., 0., 0.]])"
      ]
     },
     "execution_count": 48,
     "metadata": {},
     "output_type": "execute_result"
    }
   ],
   "source": [
    "# Create a mask tensor filled with negative infinity values\n",
    "mask = torch.full((len(tokens), len(tokens)), float(\"-inf\"), device=tokens.device)\n",
    "\n",
    "# Keep upper triangular part of the mask tensor as negative infinity, set the rest to zeros\n",
    "mask = torch.triu(mask, diagonal=1)\n",
    "\n",
    "# Print the resulting mask tensor\n",
    "mask"
   ]
  },
  {
   "cell_type": "code",
   "execution_count": 49,
   "id": "28082fae-1951-41b9-81eb-7051ad8a5b7e",
   "metadata": {},
   "outputs": [
    {
     "name": "stdout",
     "output_type": "stream",
     "text": [
      "qk_per_token_after_masking =  tensor([[ 3.7595,    -inf,    -inf,    -inf,    -inf],\n",
      "        [ 8.8772,  6.3576,    -inf,    -inf,    -inf],\n",
      "        [ 9.1776,  8.4376,  5.4579,    -inf,    -inf],\n",
      "        [10.2002,  9.7247,  6.7453,  6.5437,    -inf],\n",
      "        [ 8.5129,  8.2732,  7.8128,  6.9905,  5.5043]], grad_fn=<AddBackward0>)\n",
      "qk_per_token_after_masking_after_softmax tensor([[1.0000, 0.0000, 0.0000, 0.0000, 0.0000],\n",
      "        [0.9258, 0.0747, 0.0000, 0.0000, 0.0000],\n",
      "        [0.6680, 0.3184, 0.0161, 0.0000, 0.0000],\n",
      "        [0.5938, 0.3711, 0.0188, 0.0154, 0.0000],\n",
      "        [0.3926, 0.3086, 0.1943, 0.0854, 0.0194]], dtype=torch.bfloat16,\n",
      "       grad_fn=<ToCopyBackward0>)\n"
     ]
    }
   ],
   "source": [
    "# Add the mask to the query-key dot products per token\n",
    "qk_per_token_after_masking = qk_per_token + mask\n",
    "\n",
    "# Apply softmax along the second dimension after masking\n",
    "qk_per_token_after_masking_after_softmax = torch.nn.functional.softmax(qk_per_token_after_masking, dim=1).to(torch.bfloat16)\n",
    "\n",
    "print(\"qk_per_token_after_masking = \", qk_per_token_after_masking)\n",
    "print(\"qk_per_token_after_masking_after_softmax\", qk_per_token_after_masking_after_softmax)"
   ]
  },
  {
   "cell_type": "code",
   "execution_count": 50,
   "id": "e7e76e12-7072-44de-a30c-5efc3bedeba2",
   "metadata": {},
   "outputs": [
    {
     "data": {
      "text/plain": [
       "torch.Size([5, 5])"
      ]
     },
     "execution_count": 50,
     "metadata": {},
     "output_type": "execute_result"
    }
   ],
   "source": [
    "qk_per_token_after_masking_after_softmax.shape"
   ]
  },
  {
   "cell_type": "markdown",
   "id": "c6675794-e3a4-403e-bb1f-e015417c8b47",
   "metadata": {},
   "source": [
    "### Apply the attention scores to the value matrix\n",
    "* So far we've produced an attention score matrix that captures only the relationships between tokens (how much each token should focus on the others) but does not carry the original token embedding or positional information forward.  \n",
    "* The next step applies these attention scores to the values (which still retain both the word embeddings and positional encodings), re-incorporating these elements back into the representation, resulting in a contextually aware embedding for each token."
   ]
  },
  {
   "cell_type": "markdown",
   "id": "829891e8-7d2a-483d-9ddb-ac04d0ebb086",
   "metadata": {},
   "source": [
    "For the value matrix, which marks the end of the self-attention part, similar to keys, value weights are also shared across every 4 attention heads to save computation. As a result, the shape of the value weight matrix is [8x128x4096]."
   ]
  },
  {
   "cell_type": "code",
   "execution_count": 51,
   "id": "f048900c-c288-4614-9c93-19423616ae28",
   "metadata": {},
   "outputs": [
    {
     "name": "stdout",
     "output_type": "stream",
     "text": [
      "torch.Size([1024, 4096])\n",
      "v_layer0.shape[0] =  1024\n",
      "n_kv_heads =  8\n",
      "v_layer0.shape[0] // n_kv_heads =  128\n"
     ]
    },
    {
     "data": {
      "text/plain": [
       "torch.Size([8, 128, 4096])"
      ]
     },
     "execution_count": 51,
     "metadata": {},
     "output_type": "execute_result"
    }
   ],
   "source": [
    "\n",
    "# Retrieve the value weight for the first layer of attention\n",
    "v_layer0 = model[\"layers.0.attention.wv.weight\"]\n",
    "print(v_layer0.shape)\n",
    "\n",
    "print(\"v_layer0.shape[0] = \", v_layer0.shape[0])\n",
    "print(\"n_kv_heads = \", n_kv_heads)\n",
    "print(\"v_layer0.shape[0] // n_kv_heads = \", v_layer0.shape[0] // n_kv_heads)\n",
    "\n",
    "# Reshape value weight for the first layer of attention to separate heads\n",
    "v_layer0 = v_layer0.view(n_kv_heads, v_layer0.shape[0] // n_kv_heads, dim)\n",
    "\n",
    "# Print the shape of the reshaped value weight tensor\n",
    "v_layer0.shape"
   ]
  },
  {
   "cell_type": "markdown",
   "id": "8cc8de5e-debe-496b-b2a1-9163587ff091",
   "metadata": {},
   "source": [
    "Obtain value weight matrix for first layer and first head..."
   ]
  },
  {
   "cell_type": "code",
   "execution_count": 52,
   "id": "135031c4-36a3-4fa2-9ce3-d9ac844f46b3",
   "metadata": {},
   "outputs": [
    {
     "data": {
      "text/plain": [
       "torch.Size([128, 4096])"
      ]
     },
     "execution_count": 52,
     "metadata": {},
     "output_type": "execute_result"
    }
   ],
   "source": [
    "# Extract the value weight for the first head of the first layer of attention\n",
    "v_layer0_head0 = v_layer0[0]\n",
    "\n",
    "# Print the shape of the extracted value weight tensor for the first head\n",
    "v_layer0_head0.shape"
   ]
  },
  {
   "cell_type": "markdown",
   "id": "4abfd5cf-6135-4096-a9ff-68f870df3170",
   "metadata": {},
   "source": [
    "Using the value weights, we compute the attention values for each token, resulting in a matrix of size [17x128]. Here, 17 denotes the number of tokens in the prompt, and 128 indicates the dimension of the value vector for each token."
   ]
  },
  {
   "cell_type": "code",
   "execution_count": 53,
   "id": "797893ad-b5b4-4c75-b7b1-2485f866b62b",
   "metadata": {},
   "outputs": [
    {
     "data": {
      "text/plain": [
       "torch.Size([5, 128])"
      ]
     },
     "execution_count": 53,
     "metadata": {},
     "output_type": "execute_result"
    }
   ],
   "source": [
    "# Calculate value per token by matrix multiplication\n",
    "v_per_token = torch.matmul(token_embeddings, v_layer0_head0.T)\n",
    "\n",
    "# Print the shape of the resulting tensor representing values per token\n",
    "v_per_token.shape"
   ]
  },
  {
   "cell_type": "markdown",
   "id": "98ce6d3f-520a-44e9-b645-69e6bc60d231",
   "metadata": {},
   "source": [
    "Obtain the resulting attention matri..."
   ]
  },
  {
   "cell_type": "code",
   "execution_count": 54,
   "id": "82e3f537-c041-4929-a89b-3eb384a4c403",
   "metadata": {},
   "outputs": [
    {
     "data": {
      "text/plain": [
       "torch.Size([5, 128])"
      ]
     },
     "execution_count": 54,
     "metadata": {},
     "output_type": "execute_result"
    }
   ],
   "source": [
    "# Calculate QKV attention by matrix multiplication\n",
    "qkv_attention = torch.matmul(qk_per_token_after_masking_after_softmax, v_per_token)\n",
    "\n",
    "# Print the shape of the resulting tensor\n",
    "qkv_attention.shape"
   ]
  },
  {
   "cell_type": "markdown",
   "id": "53814cc4-58da-49ee-b642-94f10fd0761b",
   "metadata": {},
   "source": [
    "***We now have the attention values for the first layer and first head or in other words self attention.***"
   ]
  },
  {
   "cell_type": "markdown",
   "id": "30c69b2e-111b-4b20-8dc5-eaff36bcb206",
   "metadata": {},
   "source": [
    "## Part 4: Rinse and repeat: implement multi-head attention"
   ]
  },
  {
   "cell_type": "markdown",
   "id": "f61acef6-fd8d-4316-a98f-98aa06fcdaaa",
   "metadata": {},
   "source": [
    "Do all of that again in a loop, once for each head on the layer"
   ]
  },
  {
   "cell_type": "code",
   "execution_count": 55,
   "id": "d21d38c7-be2e-4fb8-939c-1a2b3b568dcb",
   "metadata": {},
   "outputs": [
    {
     "data": {
      "text/plain": [
       "32"
      ]
     },
     "execution_count": 55,
     "metadata": {},
     "output_type": "execute_result"
    }
   ],
   "source": [
    "# Store QKV attention for each head in a list\n",
    "qkv_attention_store = []\n",
    "\n",
    "# Iterate through each head\n",
    "for head in range(n_heads):\n",
    "    # Extract query, key, and value weights for the current head\n",
    "    q_layer0_head = q_layer0[head]\n",
    "    k_layer0_head = k_layer0[head//4]  # Key weights are shared across 4 heads\n",
    "    v_layer0_head = v_layer0[head//4]  # Value weights are shared across 4 heads\n",
    "    \n",
    "    # Calculate query per token by matrix multiplication\n",
    "    q_per_token = torch.matmul(token_embeddings, q_layer0_head.T)\n",
    "    \n",
    "    # Calculate key per token by matrix multiplication\n",
    "    k_per_token = torch.matmul(token_embeddings, k_layer0_head.T)\n",
    "    \n",
    "    # Calculate value per token by matrix multiplication\n",
    "    v_per_token = torch.matmul(token_embeddings, v_layer0_head.T)\n",
    "    \n",
    "    # Split query per token into pairs and rotate them\n",
    "    q_per_token_split_into_pairs = q_per_token.float().view(q_per_token.shape[0], -1, 2)\n",
    "    q_per_token_as_complex_numbers = torch.view_as_complex(q_per_token_split_into_pairs)\n",
    "    q_per_token_split_into_pairs_rotated = torch.view_as_real(q_per_token_as_complex_numbers * freqs_cis[:len(tokens)])\n",
    "    q_per_token_rotated = q_per_token_split_into_pairs_rotated.view(q_per_token.shape)\n",
    "    \n",
    "    # Split key per token into pairs and rotate them\n",
    "    k_per_token_split_into_pairs = k_per_token.float().view(k_per_token.shape[0], -1, 2)\n",
    "    k_per_token_as_complex_numbers = torch.view_as_complex(k_per_token_split_into_pairs)\n",
    "    k_per_token_split_into_pairs_rotated = torch.view_as_real(k_per_token_as_complex_numbers * freqs_cis[:len(tokens)])\n",
    "    k_per_token_rotated = k_per_token_split_into_pairs_rotated.view(k_per_token.shape)\n",
    "    \n",
    "    # Calculate query-key dot products per token\n",
    "    qk_per_token = torch.matmul(q_per_token_rotated, k_per_token_rotated.T) / (128) ** 0.5\n",
    "    \n",
    "    # Create a mask tensor filled with negative infinity values\n",
    "    mask = torch.full((len(tokens), len(tokens)), float(\"-inf\"), device=tokens.device)\n",
    "    # Set upper triangular part of the mask tensor to negative infinity\n",
    "    mask = torch.triu(mask, diagonal=1)\n",
    "    # Add the mask to the query-key dot products per token\n",
    "    qk_per_token_after_masking = qk_per_token + mask\n",
    "    \n",
    "    # Apply softmax along the second dimension after masking\n",
    "    qk_per_token_after_masking_after_softmax = torch.nn.functional.softmax(qk_per_token_after_masking, dim=1).to(torch.bfloat16)\n",
    "    \n",
    "    # Calculate QKV attention by matrix multiplication\n",
    "    qkv_attention = torch.matmul(qk_per_token_after_masking_after_softmax, v_per_token)\n",
    "    \n",
    "    # Store QKV attention for the current head\n",
    "    qkv_attention_store.append(qkv_attention)\n",
    "\n",
    "# Print the number of QKV attentions stored\n",
    "len(qkv_attention_store)\n"
   ]
  },
  {
   "cell_type": "code",
   "execution_count": 56,
   "id": "01f32a4b-435b-478b-a13f-f438fb505e1e",
   "metadata": {},
   "outputs": [
    {
     "name": "stdout",
     "output_type": "stream",
     "text": [
      "torch.Size([5, 128])\n"
     ]
    }
   ],
   "source": [
    "print(qkv_attention_store[0].shape)"
   ]
  },
  {
   "cell_type": "markdown",
   "id": "58023a53-7ebb-4f0e-8042-44a5d087d94b",
   "metadata": {},
   "source": [
    "Now that the QKV attention matrix for all 32 heads in the first layer is obtained, all attention scores will be merged into one large matrix of size [17x4096].."
   ]
  },
  {
   "cell_type": "code",
   "execution_count": 57,
   "id": "f8d96a96-c239-4576-bd69-bde5ae470f4a",
   "metadata": {},
   "outputs": [
    {
     "data": {
      "text/plain": [
       "torch.Size([5, 4096])"
      ]
     },
     "execution_count": 57,
     "metadata": {},
     "output_type": "execute_result"
    }
   ],
   "source": [
    "# Concatenate QKV attentions from all heads along the last dimension\n",
    "stacked_qkv_attention = torch.cat(qkv_attention_store, dim=-1)\n",
    "\n",
    "# Print the shape of the resulting tensor\n",
    "stacked_qkv_attention.shape"
   ]
  },
  {
   "cell_type": "markdown",
   "id": "28462107-c5d6-465c-9281-680e6c3595e4",
   "metadata": {},
   "source": [
    "Now multiply the weight matrix with the stacked QKV matrix..."
   ]
  },
  {
   "cell_type": "code",
   "execution_count": 58,
   "id": "fd723bee-8df3-4b88-9dd3-430e120061d8",
   "metadata": {},
   "outputs": [
    {
     "data": {
      "text/plain": [
       "torch.Size([5, 4096])"
      ]
     },
     "execution_count": 58,
     "metadata": {},
     "output_type": "execute_result"
    }
   ],
   "source": [
    "# Calculate the embedding delta by matrix multiplication with the output weight\n",
    "embedding_delta = torch.matmul(stacked_qkv_attention, model[\"layers.0.attention.wo.weight\"].T)\n",
    "\n",
    "# Print the shape of the resulting tensor\n",
    "embedding_delta.shape"
   ]
  },
  {
   "cell_type": "markdown",
   "id": "b5d722bf-46b2-438d-b59e-15c76271d190",
   "metadata": {},
   "source": [
    "This gives us the change in the embedding values after attention.  Now add these to the original token embeddings..."
   ]
  },
  {
   "cell_type": "code",
   "execution_count": 59,
   "id": "895dede4-9e24-4a51-b17e-f8ebc6b079f7",
   "metadata": {},
   "outputs": [
    {
     "data": {
      "text/plain": [
       "torch.Size([5, 4096])"
      ]
     },
     "execution_count": 59,
     "metadata": {},
     "output_type": "execute_result"
    }
   ],
   "source": [
    "# Add the embedding delta to the unnormalized token embeddings to get the final embeddings\n",
    "embedding_after_edit = token_embeddings_unnormalized + embedding_delta\n",
    "\n",
    "# Print the shape of the resulting tensor\n",
    "embedding_after_edit.shape"
   ]
  },
  {
   "cell_type": "markdown",
   "id": "507349ff-5575-467f-a47c-290986170f9e",
   "metadata": {},
   "source": [
    "Normalise..."
   ]
  },
  {
   "cell_type": "code",
   "execution_count": null,
   "id": "adea8f5b-f091-4907-ba87-ea4c831a46c5",
   "metadata": {},
   "outputs": [],
   "source": [
    "# Normalize edited embeddings using root mean square normalization and provided weights\n",
    "embedding_after_edit_normalized = rms_norm(embedding_after_edit, model[\"layers.0.ffn_norm.weight\"])\n",
    "\n",
    "# Print the shape of resulting normalized embeddings\n",
    "embedding_after_edit_normalized.shape\n"
   ]
  },
  {
   "cell_type": "markdown",
   "id": "575072d4-003c-46be-8c88-9ca53238005f",
   "metadata": {},
   "source": [
    "### Now implement the feed forward neural network with a SwiGLU activation function"
   ]
  },
  {
   "cell_type": "code",
   "execution_count": null,
   "id": "8c3e2a88-5717-4c54-ab2e-56dc8d884db4",
   "metadata": {},
   "outputs": [],
   "source": [
    "# Retrieve weights for feedforward layer\n",
    "w1 = model[\"layers.0.feed_forward.w1.weight\"]\n",
    "w2 = model[\"layers.0.feed_forward.w2.weight\"]\n",
    "w3 = model[\"layers.0.feed_forward.w3.weight\"]\n",
    "\n",
    "# Perform operations for feedforward layer\n",
    "output_after_feedforward = torch.matmul(\n",
    "    torch.functional.F.silu(\n",
    "        torch.matmul(embedding_after_edit_normalized, w1.T)\n",
    "    ) \n",
    "    * torch.matmul(embedding_after_edit_normalized, w3.T), w2.T\n",
    ")\n",
    "\n",
    "# Print the shape of the resulting tensor after feedforward\n",
    "output_after_feedforward.shape\n"
   ]
  },
  {
   "cell_type": "markdown",
   "id": "4629a1f0-5930-4b6a-9b02-e2581276c607",
   "metadata": {},
   "source": [
    "## Part 5: put it all together for all 32 layers"
   ]
  },
  {
   "cell_type": "code",
   "execution_count": null,
   "id": "affafd48-d788-4d42-94e9-31446047eab3",
   "metadata": {},
   "outputs": [],
   "source": [
    "# Initialize final embedding with unnormalized token embeddings\n",
    "final_embedding = token_embeddings_unnormalized\n",
    "\n",
    "# Iterate through each layer\n",
    "for layer in range(n_layers):\n",
    "    # Initialize list to store QKV attentions for each head\n",
    "    qkv_attention_store = []\n",
    "    \n",
    "    # Normalize the final embedding using root mean square normalization and weights from the current layer\n",
    "    layer_embedding_norm = rms_norm(final_embedding, model[f\"layers.{layer}.attention_norm.weight\"])\n",
    "    \n",
    "    # Retrieve query, key, value, and output weights for the attention mechanism of the current layer\n",
    "    q_layer = model[f\"layers.{layer}.attention.wq.weight\"]\n",
    "    q_layer = q_layer.view(n_heads, q_layer.shape[0] // n_heads, dim)\n",
    "    k_layer = model[f\"layers.{layer}.attention.wk.weight\"]\n",
    "    k_layer = k_layer.view(n_kv_heads, k_layer.shape[0] // n_kv_heads, dim)\n",
    "    v_layer = model[f\"layers.{layer}.attention.wv.weight\"]\n",
    "    v_layer = v_layer.view(n_kv_heads, v_layer.shape[0] // n_kv_heads, dim)\n",
    "    w_layer = model[f\"layers.{layer}.attention.wo.weight\"]\n",
    "    \n",
    "    # Iterate through each head\n",
    "    for head in range(n_heads):\n",
    "        # Extract query, key, and value weights for the current head\n",
    "        q_layer_head = q_layer[head]\n",
    "        k_layer_head = k_layer[head//4]  # Key weights are shared across 4 heads\n",
    "        v_layer_head = v_layer[head//4]  # Value weights are shared across 4 heads\n",
    "        \n",
    "        # Calculate query per token by matrix multiplication\n",
    "        q_per_token = torch.matmul(layer_embedding_norm, q_layer_head.T)\n",
    "        \n",
    "        # Calculate key per token by matrix multiplication\n",
    "        k_per_token = torch.matmul(layer_embedding_norm, k_layer_head.T)\n",
    "        \n",
    "        # Calculate value per token by matrix multiplication\n",
    "        v_per_token = torch.matmul(layer_embedding_norm, v_layer_head.T)\n",
    "        \n",
    "        # Split query per token into pairs and rotate them\n",
    "        q_per_token_split_into_pairs = q_per_token.float().view(q_per_token.shape[0], -1, 2)\n",
    "        q_per_token_as_complex_numbers = torch.view_as_complex(q_per_token_split_into_pairs)\n",
    "        q_per_token_split_into_pairs_rotated = torch.view_as_real(q_per_token_as_complex_numbers * freqs_cis)\n",
    "        q_per_token_rotated = q_per_token_split_into_pairs_rotated.view(q_per_token.shape)\n",
    "        \n",
    "        # Split key per token into pairs and rotate them\n",
    "        k_per_token_split_into_pairs = k_per_token.float().view(k_per_token.shape[0], -1, 2)\n",
    "        k_per_token_as_complex_numbers = torch.view_as_complex(k_per_token_split_into_pairs)\n",
    "        k_per_token_split_into_pairs_rotated = torch.view_as_real(k_per_token_as_complex_numbers * freqs_cis)\n",
    "        k_per_token_rotated = k_per_token_split_into_pairs_rotated.view(k_per_token.shape)\n",
    "        \n",
    "        # Calculate query-key dot products per token\n",
    "        qk_per_token = torch.matmul(q_per_token_rotated, k_per_token_rotated.T) / (128) ** 0.5\n",
    "        \n",
    "        # Create a mask tensor filled with negative infinity values\n",
    "        mask = torch.full((len(token_embeddings_unnormalized), len(token_embeddings_unnormalized)), float(\"-inf\"))\n",
    "        # Set upper triangular part of the mask tensor to negative infinity\n",
    "        mask = torch.triu(mask, diagonal=1)\n",
    "        # Add the mask to the query-key dot products per token\n",
    "        qk_per_token_after_masking = qk_per_token + mask\n",
    "        \n",
    "        # Apply softmax along the second dimension after masking\n",
    "        qk_per_token_after_masking_after_softmax = torch.nn.functional.softmax(qk_per_token_after_masking, dim=1).to(torch.bfloat16)\n",
    "        \n",
    "        # Calculate QKV attention by matrix multiplication\n",
    "        qkv_attention = torch.matmul(qk_per_token_after_masking_after_softmax, v_per_token)\n",
    "        \n",
    "        # Store QKV attention for the current head\n",
    "        qkv_attention_store.append(qkv_attention)\n",
    "    \n",
    "    # Concatenate QKV attentions from all heads along the last dimension\n",
    "    stacked_qkv_attention = torch.cat(qkv_attention_store, dim=-1)\n",
    "    \n",
    "    # Calculate embedding delta by matrix multiplication with the output weight\n",
    "    embedding_delta = torch.matmul(stacked_qkv_attention, w_layer.T)\n",
    "    \n",
    "    # Add the embedding delta to the current embedding to get the edited embedding\n",
    "    embedding_after_edit = final_embedding + embedding_delta\n",
    "    \n",
    "    # Normalize the edited embedding using root mean square normalization and weights from the current layer\n",
    "    embedding_after_edit_normalized = rms_norm(embedding_after_edit, model[f\"layers.{layer}.ffn_norm.weight\"])\n",
    "    \n",
    "    # Retrieve weights for the feedforward layer\n",
    "    w1 = model[f\"layers.{layer}.feed_forward.w1.weight\"]\n",
    "    w2 = model[f\"layers.{layer}.feed_forward.w2.weight\"]\n",
    "    w3 = model[f\"layers.{layer}.feed_forward.w3.weight\"]\n",
    "    \n",
    "    # Perform operations for the feedforward layer\n",
    "    output_after_feedforward = torch.matmul(torch.functional.F.silu(torch.matmul(embedding_after_edit_normalized, w1.T)) * torch.matmul(embedding_after_edit_normalized, w3.T), w2.T)\n",
    "    \n",
    "    # Update the final embedding with the edited embedding plus the output from the feedforward layer\n",
    "    final_embedding = embedding_after_edit + output_after_feedforward"
   ]
  },
  {
   "cell_type": "markdown",
   "id": "3cc383e6-bc25-4ab1-b2d2-6caf3fa596ba",
   "metadata": {},
   "source": [
    "### Generate the model's output\n",
    "The final embedding shouild represent the model's guess for the next token.  \n",
    "It has the same shape as the token embeddings [17x40896]"
   ]
  },
  {
   "cell_type": "code",
   "execution_count": null,
   "id": "00e80554-683d-49b6-9978-f340d9d13528",
   "metadata": {},
   "outputs": [],
   "source": [
    "# Normalize the final embedding using root mean square normalization and provided weights\n",
    "final_embedding = rms_norm(final_embedding, model[\"norm.weight\"])\n",
    "\n",
    "# Print the shape of the resulting normalized final embedding\n",
    "final_embedding.shape"
   ]
  },
  {
   "cell_type": "code",
   "execution_count": null,
   "id": "fee6ca7d-e131-4748-a339-2b4affb15477",
   "metadata": {},
   "outputs": [],
   "source": [
    "# Print the shape of the output weight tensor\n",
    "model[\"output.weight\"].shape"
   ]
  },
  {
   "cell_type": "markdown",
   "id": "ef7225b1-9dc2-458f-ad48-0a0dc12a6bf5",
   "metadata": {},
   "source": [
    "To predict the next value, use the embedding of the last token..."
   ]
  },
  {
   "cell_type": "code",
   "execution_count": null,
   "id": "4afbe4ca-96d3-4567-b17d-d8a0d8f6af86",
   "metadata": {},
   "outputs": [],
   "source": [
    "# Calculate logits by matrix multiplication between the final embedding and the transpose of the output weight tensor\n",
    "logits = torch.matmul(final_embedding[-1], model[\"output.weight\"].T)\n",
    "\n",
    "## WHy the last token??\n",
    "## TODO check: what would happen if used the last but one token?  Would it predict the last token?\n",
    "\n",
    "# Print the shape of the resulting logits tensor\n",
    "logits.shape"
   ]
  },
  {
   "cell_type": "code",
   "execution_count": null,
   "id": "eb562b52-95db-4882-a964-7c6460ae8811",
   "metadata": {},
   "outputs": [],
   "source": [
    "# Find the index of the maximum value along the last dimension to determine the next token\n",
    "next_token = torch.argmax(logits, dim=-1)\n",
    "\n",
    "# Output the index of the next token\n",
    "next_token"
   ]
  },
  {
   "cell_type": "code",
   "execution_count": null,
   "id": "1db32376-7b4d-4dd5-a0d9-f83df2fff3f2",
   "metadata": {},
   "outputs": [],
   "source": [
    "# Decode the index of the next token using the tokenizer\n",
    "tokenizer.decode([next_token.item()])"
   ]
  },
  {
   "cell_type": "code",
   "execution_count": null,
   "id": "ee721cc6-d9e7-4ed0-b4c4-0fc22f68d91d",
   "metadata": {},
   "outputs": [],
   "source": [
    "# Try last other tokens token\n",
    "print(\"prompt tokens decoded: \", [tokenizer.decode([token.item()]) for token in tokens] )\n",
    "\n",
    "for n in range(1,len(tokens)+1):\n",
    "    logits = torch.matmul(final_embedding[-n], model[\"output.weight\"].T)\n",
    "\n",
    "    # Find the index of the maximum value along the last dimension to determine the next token\n",
    "    next_token = torch.argmax(logits, dim=-1)\n",
    "\n",
    "    # Decode the index of the next token using the tokenizer\n",
    "    print(tokenizer.decode([tokens[-n]]), \" \", tokenizer.decode([next_token.item()]))"
   ]
  },
  {
   "cell_type": "code",
   "execution_count": null,
   "id": "3bc004ff-efea-4a15-8181-89a5a8a49f57",
   "metadata": {},
   "outputs": [],
   "source": []
  }
 ],
 "metadata": {
  "kernelspec": {
   "display_name": "Python 3 (ipykernel)",
   "language": "python",
   "name": "python3"
  },
  "language_info": {
   "codemirror_mode": {
    "name": "ipython",
    "version": 3
   },
   "file_extension": ".py",
   "mimetype": "text/x-python",
   "name": "python",
   "nbconvert_exporter": "python",
   "pygments_lexer": "ipython3",
   "version": "3.12.7"
  }
 },
 "nbformat": 4,
 "nbformat_minor": 5
}
